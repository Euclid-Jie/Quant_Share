{
 "cells": [
  {
   "cell_type": "code",
   "execution_count": 79,
   "metadata": {
    "collapsed": true,
    "ExecuteTime": {
     "start_time": "2023-05-14T17:26:58.286732Z",
     "end_time": "2023-05-14T17:26:58.293757Z"
    }
   },
   "outputs": [],
   "source": [
    "import sys\n",
    "sys.path.append('../')\n",
    "from Euclid_work.Quant_Share import futures_list, format_futures, get_data, tradeDateList\n",
    "from gm.api import *\n",
    "import numpy as np\n",
    "import pandas as pd\n",
    "set_token('cac6f11ecf01f9539af72142faf5c3066cb1915b')"
   ]
  },
  {
   "cell_type": "code",
   "execution_count": 17,
   "outputs": [],
   "source": [
    "csymbol = list(continuous_contracts_csymbol.keys())"
   ],
   "metadata": {
    "collapsed": false,
    "ExecuteTime": {
     "start_time": "2023-05-14T15:18:52.639758Z",
     "end_time": "2023-05-14T15:18:52.652800Z"
    }
   }
  },
  {
   "cell_type": "code",
   "execution_count": 31,
   "outputs": [],
   "source": [
    "df_csymbol = pd.DataFrame(continuous_contracts_csymbol.items(), columns=['csymbol','name'])\n",
    "df_csymbol.to_excel('../Euclid_work/Quant_Share/dev_files/continuous_contracts_csymbol.xlsx', index=None)"
   ],
   "metadata": {
    "collapsed": false,
    "ExecuteTime": {
     "start_time": "2023-05-14T15:45:19.837255Z",
     "end_time": "2023-05-14T15:45:19.861338Z"
    }
   }
  },
  {
   "cell_type": "code",
   "execution_count": 35,
   "outputs": [
    {
     "ename": "TypeError",
     "evalue": "get_continuous_contracts() got an unexpected keyword argument 'df'",
     "output_type": "error",
     "traceback": [
      "\u001B[1;31m---------------------------------------------------------------------------\u001B[0m",
      "\u001B[1;31mTypeError\u001B[0m                                 Traceback (most recent call last)",
      "Cell \u001B[1;32mIn[35], line 1\u001B[0m\n\u001B[1;32m----> 1\u001B[0m data_dic \u001B[38;5;241m=\u001B[39m \u001B[43mget_continuous_contracts\u001B[49m\u001B[43m(\u001B[49m\u001B[43mcsymbol\u001B[49m\u001B[43m[\u001B[49m\u001B[38;5;241;43m0\u001B[39;49m\u001B[43m]\u001B[49m\u001B[43m,\u001B[49m\u001B[43m \u001B[49m\u001B[43mstart_date\u001B[49m\u001B[38;5;241;43m=\u001B[39;49m\u001B[38;5;124;43m\"\u001B[39;49m\u001B[38;5;124;43m2022-09-01\u001B[39;49m\u001B[38;5;124;43m\"\u001B[39;49m\u001B[43m,\u001B[49m\u001B[43m \u001B[49m\u001B[43mend_date\u001B[49m\u001B[38;5;241;43m=\u001B[39;49m\u001B[38;5;124;43m\"\u001B[39;49m\u001B[38;5;124;43m2022-09-15\u001B[39;49m\u001B[38;5;124;43m\"\u001B[39;49m\u001B[43m,\u001B[49m\u001B[43mdf\u001B[49m\u001B[38;5;241;43m=\u001B[39;49m\u001B[38;5;28;43;01mTrue\u001B[39;49;00m\u001B[43m)\u001B[49m\n",
      "\u001B[1;31mTypeError\u001B[0m: get_continuous_contracts() got an unexpected keyword argument 'df'"
     ]
    }
   ],
   "source": [
    "data_dic = get_continuous_contracts(csymbol[0], start_date=\"2022-09-01\", end_date=\"2022-09-15\")"
   ],
   "metadata": {
    "collapsed": false,
    "ExecuteTime": {
     "start_time": "2023-05-14T15:34:59.554461Z",
     "end_time": "2023-05-14T15:34:59.613667Z"
    }
   }
  },
  {
   "cell_type": "code",
   "execution_count": 47,
   "outputs": [
    {
     "data": {
      "text/plain": "[{'symbol': 'CFFEX.IC2209',\n  'trade_date': datetime.datetime(2022, 9, 1, 0, 0, tzinfo=tzfile('PRC'))},\n {'symbol': 'CFFEX.IC2209',\n  'trade_date': datetime.datetime(2022, 9, 2, 0, 0, tzinfo=tzfile('PRC'))},\n {'symbol': 'CFFEX.IC2209',\n  'trade_date': datetime.datetime(2022, 9, 3, 0, 0, tzinfo=tzfile('PRC'))},\n {'symbol': 'CFFEX.IC2209',\n  'trade_date': datetime.datetime(2022, 9, 4, 0, 0, tzinfo=tzfile('PRC'))},\n {'symbol': 'CFFEX.IC2209',\n  'trade_date': datetime.datetime(2022, 9, 5, 0, 0, tzinfo=tzfile('PRC'))},\n {'symbol': 'CFFEX.IC2209',\n  'trade_date': datetime.datetime(2022, 9, 6, 0, 0, tzinfo=tzfile('PRC'))},\n {'symbol': 'CFFEX.IC2209',\n  'trade_date': datetime.datetime(2022, 9, 7, 0, 0, tzinfo=tzfile('PRC'))},\n {'symbol': 'CFFEX.IC2209',\n  'trade_date': datetime.datetime(2022, 9, 8, 0, 0, tzinfo=tzfile('PRC'))},\n {'symbol': 'CFFEX.IC2209',\n  'trade_date': datetime.datetime(2022, 9, 9, 0, 0, tzinfo=tzfile('PRC'))},\n {'symbol': 'CFFEX.IC2209',\n  'trade_date': datetime.datetime(2022, 9, 10, 0, 0, tzinfo=tzfile('PRC'))},\n {'symbol': 'CFFEX.IC2209',\n  'trade_date': datetime.datetime(2022, 9, 11, 0, 0, tzinfo=tzfile('PRC'))},\n {'symbol': 'CFFEX.IC2209',\n  'trade_date': datetime.datetime(2022, 9, 12, 0, 0, tzinfo=tzfile('PRC'))},\n {'symbol': 'CFFEX.IC2209',\n  'trade_date': datetime.datetime(2022, 9, 13, 0, 0, tzinfo=tzfile('PRC'))},\n {'symbol': 'CFFEX.IC2209',\n  'trade_date': datetime.datetime(2022, 9, 14, 0, 0, tzinfo=tzfile('PRC'))},\n {'symbol': 'CFFEX.IC2210',\n  'trade_date': datetime.datetime(2022, 9, 15, 0, 0, tzinfo=tzfile('PRC'))}]"
     },
     "execution_count": 47,
     "metadata": {},
     "output_type": "execute_result"
    }
   ],
   "source": [
    "get_continuous_contracts(csymbol[0], start_date=\"2022-09-01\", end_date=\"2022-09-15\")"
   ],
   "metadata": {
    "collapsed": false,
    "ExecuteTime": {
     "start_time": "2023-05-14T16:36:44.276958Z",
     "end_time": "2023-05-14T16:36:44.332150Z"
    }
   }
  },
  {
   "cell_type": "code",
   "execution_count": 57,
   "outputs": [
    {
     "ename": "KeyError",
     "evalue": "'CFFEX.IC2209 is not format futures!'",
     "output_type": "error",
     "traceback": [
      "\u001B[1;31m---------------------------------------------------------------------------\u001B[0m",
      "\u001B[1;31mKeyError\u001B[0m                                  Traceback (most recent call last)",
      "Cell \u001B[1;32mIn[57], line 1\u001B[0m\n\u001B[1;32m----> 1\u001B[0m \u001B[43mformat_futures\u001B[49m\u001B[43m(\u001B[49m\u001B[38;5;124;43m'\u001B[39;49m\u001B[38;5;124;43mCFFEX.IC2209\u001B[39;49m\u001B[38;5;124;43m'\u001B[39;49m\u001B[43m)\u001B[49m\n",
      "File \u001B[1;32mE:\\yuankangrui\\Quant_Share_Local\\FuncTest\\..\\Euclid_work\\Quant_Share\\Utils.py:79\u001B[0m, in \u001B[0;36mformat_futures\u001B[1;34m(file_name)\u001B[0m\n\u001B[0;32m     77\u001B[0m     \u001B[38;5;28;01mreturn\u001B[39;00m out\n\u001B[0;32m     78\u001B[0m \u001B[38;5;28;01melse\u001B[39;00m:\n\u001B[1;32m---> 79\u001B[0m     \u001B[38;5;28;01mraise\u001B[39;00m \u001B[38;5;167;01mKeyError\u001B[39;00m(\u001B[38;5;124m'\u001B[39m\u001B[38;5;132;01m{}\u001B[39;00m\u001B[38;5;124m is not format futures!\u001B[39m\u001B[38;5;124m'\u001B[39m\u001B[38;5;241m.\u001B[39mformat(file_name))\n",
      "\u001B[1;31mKeyError\u001B[0m: 'CFFEX.IC2209 is not format futures!'"
     ]
    }
   ],
   "source": [
    "format_futures('CFFEX.IC2209')"
   ],
   "metadata": {
    "collapsed": false
   }
  },
  {
   "cell_type": "code",
   "execution_count": 48,
   "outputs": [
    {
     "ename": "GmError",
     "evalue": "{\"status\": 1017, \"message\": \"基本面数据服务调用错误\", \"function\": \"get_history_instruments\"}",
     "output_type": "error",
     "traceback": [
      "\u001B[1;31m---------------------------------------------------------------------------\u001B[0m",
      "\u001B[1;31mGmError\u001B[0m                                   Traceback (most recent call last)",
      "Cell \u001B[1;32mIn[48], line 1\u001B[0m\n\u001B[1;32m----> 1\u001B[0m \u001B[43mget_history_instruments\u001B[49m\u001B[43m(\u001B[49m\u001B[43mcsymbol\u001B[49m\u001B[43m[\u001B[49m\u001B[38;5;241;43m0\u001B[39;49m\u001B[43m]\u001B[49m\u001B[43m)\u001B[49m\n",
      "File \u001B[1;32md:\\anaconda3\\lib\\site-packages\\gm\\api\\query.py:250\u001B[0m, in \u001B[0;36mget_history_instruments\u001B[1;34m(symbols, fields, start_date, end_date, df)\u001B[0m\n\u001B[0;32m    243\u001B[0m req \u001B[38;5;241m=\u001B[39m GetHistoryInstrumentsReq(\n\u001B[0;32m    244\u001B[0m     symbols\u001B[38;5;241m=\u001B[39msymbols,\n\u001B[0;32m    245\u001B[0m     \u001B[38;5;66;03m# fields=fields,\u001B[39;00m\n\u001B[0;32m    246\u001B[0m     start_date\u001B[38;5;241m=\u001B[39mstart_date,\n\u001B[0;32m    247\u001B[0m     end_date\u001B[38;5;241m=\u001B[39mend_date,\n\u001B[0;32m    248\u001B[0m )\n\u001B[0;32m    249\u001B[0m status, result \u001B[38;5;241m=\u001B[39m py_gmi_get_history_instruments(req\u001B[38;5;241m.\u001B[39mSerializeToString())\n\u001B[1;32m--> 250\u001B[0m \u001B[43mcheck_gm_status\u001B[49m\u001B[43m(\u001B[49m\u001B[43mstatus\u001B[49m\u001B[43m)\u001B[49m\n\u001B[0;32m    251\u001B[0m rsp \u001B[38;5;241m=\u001B[39m Instruments()\n\u001B[0;32m    252\u001B[0m rsp\u001B[38;5;241m.\u001B[39mParseFromString(result)\n",
      "File \u001B[1;32md:\\anaconda3\\lib\\site-packages\\gm\\api\\_errors.py:30\u001B[0m, in \u001B[0;36mcheck_gm_status\u001B[1;34m(status)\u001B[0m\n\u001B[0;32m     28\u001B[0m     message \u001B[38;5;241m+\u001B[39m\u001B[38;5;241m=\u001B[39m \u001B[38;5;124m\"\u001B[39m\u001B[38;5;124m; \u001B[39m\u001B[38;5;124m\"\u001B[39m \u001B[38;5;241m+\u001B[39m ext_message\n\u001B[0;32m     29\u001B[0m function \u001B[38;5;241m=\u001B[39m sys\u001B[38;5;241m.\u001B[39m_getframe()\u001B[38;5;241m.\u001B[39mf_back\u001B[38;5;241m.\u001B[39mf_code\u001B[38;5;241m.\u001B[39mco_name\n\u001B[1;32m---> 30\u001B[0m \u001B[38;5;28;01mraise\u001B[39;00m GmError(status, message, function)\n",
      "\u001B[1;31mGmError\u001B[0m: {\"status\": 1017, \"message\": \"基本面数据服务调用错误\", \"function\": \"get_history_instruments\"}"
     ]
    }
   ],
   "source": [
    "get_history_instruments(csymbol[0])"
   ],
   "metadata": {
    "collapsed": false
   }
  },
  {
   "cell_type": "code",
   "execution_count": 72,
   "outputs": [
    {
     "data": {
      "text/plain": "Index(['2021-01-01', '2021-01-02', '2021-01-03', '2021-01-04', '2021-01-05',\n       '2021-01-06', '2021-01-07', '2021-01-08', '2021-01-09', '2021-01-10',\n       ...\n       '2023-05-05', '2023-05-06', '2023-05-07', '2023-05-08', '2023-05-09',\n       '2023-05-10', '2023-05-11', '2023-05-12', '2023-05-13', '2023-05-14'],\n      dtype='object', length=864)"
     },
     "execution_count": 72,
     "metadata": {},
     "output_type": "execute_result"
    }
   ],
   "source": [
    "from datetime import date\n",
    "date_lst = pd.date_range('20210101', date.today())\n",
    "date_lst = date_lst.strftime(\"%Y-%m-%d\")\n",
    "date_lst"
   ],
   "metadata": {
    "collapsed": false,
    "ExecuteTime": {
     "start_time": "2023-05-14T17:24:56.265188Z",
     "end_time": "2023-05-14T17:24:56.272212Z"
    }
   }
  },
  {
   "cell_type": "code",
   "execution_count": 81,
   "outputs": [],
   "source": [
    "tradeDateList.sort()"
   ],
   "metadata": {
    "collapsed": false,
    "ExecuteTime": {
     "start_time": "2023-05-14T17:27:18.579572Z",
     "end_time": "2023-05-14T17:27:18.585593Z"
    }
   }
  },
  {
   "cell_type": "code",
   "execution_count": 84,
   "outputs": [
    {
     "data": {
      "text/plain": "list"
     },
     "execution_count": 84,
     "metadata": {},
     "output_type": "execute_result"
    }
   ],
   "source": [
    "type(tradeDateList)"
   ],
   "metadata": {
    "collapsed": false,
    "ExecuteTime": {
     "start_time": "2023-05-14T17:27:40.653645Z",
     "end_time": "2023-05-14T17:27:40.660669Z"
    }
   }
  },
  {
   "cell_type": "code",
   "execution_count": 85,
   "outputs": [
    {
     "ename": "AttributeError",
     "evalue": "'list' object has no attribute 'strftime'",
     "output_type": "error",
     "traceback": [
      "\u001B[1;31m---------------------------------------------------------------------------\u001B[0m",
      "\u001B[1;31mAttributeError\u001B[0m                            Traceback (most recent call last)",
      "Cell \u001B[1;32mIn[85], line 1\u001B[0m\n\u001B[1;32m----> 1\u001B[0m \u001B[43mtradeDateList\u001B[49m\u001B[38;5;241;43m.\u001B[39;49m\u001B[43mstrftime\u001B[49m(\u001B[38;5;124m\"\u001B[39m\u001B[38;5;124m%\u001B[39m\u001B[38;5;124mY-\u001B[39m\u001B[38;5;124m%\u001B[39m\u001B[38;5;124mm-\u001B[39m\u001B[38;5;132;01m%d\u001B[39;00m\u001B[38;5;124m\"\u001B[39m)\n",
      "\u001B[1;31mAttributeError\u001B[0m: 'list' object has no attribute 'strftime'"
     ]
    }
   ],
   "source": [
    "tradeDateList\n",
    "from datetime import datetime as dt"
   ],
   "metadata": {
    "collapsed": false
   }
  },
  {
   "cell_type": "code",
   "execution_count": null,
   "outputs": [],
   "source": [
    "strftime(\"%Y-%m-%d\")"
   ],
   "metadata": {
    "collapsed": false
   }
  },
  {
   "cell_type": "code",
   "execution_count": 75,
   "outputs": [
    {
     "data": {
      "text/plain": "'2023-05-14'"
     },
     "execution_count": 75,
     "metadata": {},
     "output_type": "execute_result"
    }
   ],
   "source": [
    "date_lst[-1]"
   ],
   "metadata": {
    "collapsed": false,
    "ExecuteTime": {
     "start_time": "2023-05-14T17:25:16.134951Z",
     "end_time": "2023-05-14T17:25:16.145990Z"
    }
   }
  },
  {
   "cell_type": "code",
   "execution_count": 78,
   "outputs": [
    {
     "data": {
      "text/plain": "                    trade_date  position  settle_price  pre_settle  pre_close  \\\n0    2023-05-12 00:00:00+08:00     61796       6092.60     6152.00    6147.40   \n1    2023-05-12 00:00:00+08:00     61796       6092.60     6152.00    6147.40   \n2    2023-05-12 00:00:00+08:00    114111       6073.40     6131.80    6125.80   \n3    2023-05-12 00:00:00+08:00     94677       6015.00     6070.00    6065.20   \n4    2023-05-12 00:00:00+08:00     18861       5965.60     6020.20    6018.40   \n...                        ...       ...           ...         ...        ...   \n1187 2023-05-12 00:00:00+08:00       417      20105.00    20455.00   20350.00   \n1188 2023-05-12 00:00:00+08:00       319      20080.00    20410.00   20455.00   \n1189 2023-05-12 00:00:00+08:00        83      19970.00    20310.00   20260.00   \n1190 2023-05-12 00:00:00+08:00       301      19975.00    20175.00   20175.00   \n1191 2023-05-12 00:00:00+08:00        82      19890.00    20220.00   20150.00   \n\n      upper_limit  lower_limit  margin_ratio  multiplier  is_adjusted  ...  \\\n0         6767.20      5536.80          0.12         200        False  ...   \n1         6767.20      5536.80          0.12         200        False  ...   \n2         6744.80      5518.80          0.12         200        False  ...   \n3         6677.00      5463.00          0.12         200        False  ...   \n4         6622.20      5418.20          0.12         200        False  ...   \n...           ...          ...           ...         ...          ...  ...   \n1187     21885.00     19020.00          0.09           5        False  ...   \n1188     21835.00     18980.00          0.09           5        False  ...   \n1189     21730.00     18885.00          0.09           5        False  ...   \n1190     21585.00     18760.00          0.09           5        False  ...   \n1191     21635.00     18800.00          0.09           5        False  ...   \n\n                   listed_date             delisted_date  underlying_symbol  \\\n0    1950-01-01 00:00:00+08:00 2038-01-01 00:00:00+08:00        SHSE.000905   \n1    1950-01-01 00:00:00+08:00 2038-01-01 00:00:00+08:00        SHSE.000905   \n2    1950-01-01 00:00:00+08:00 2038-01-01 00:00:00+08:00        SHSE.000905   \n3    1950-01-01 00:00:00+08:00 2038-01-01 00:00:00+08:00        SHSE.000905   \n4    1950-01-01 00:00:00+08:00 2038-01-01 00:00:00+08:00        SHSE.000905   \n...                        ...                       ...                ...   \n1187 2022-12-16 00:00:00+08:00 2023-12-15 00:00:00+08:00            SHFE.ZN   \n1188 2023-01-17 00:00:00+08:00 2024-01-15 00:00:00+08:00            SHFE.ZN   \n1189 2023-02-16 00:00:00+08:00 2024-02-15 00:00:00+08:00            SHFE.ZN   \n1190 2023-03-16 00:00:00+08:00 2024-03-15 00:00:00+08:00            SHFE.ZN   \n1191 2023-04-18 00:00:00+08:00 2024-04-15 00:00:00+08:00            SHFE.ZN   \n\n      board  trade_n  option_type option_margin_ratio1  option_margin_ratio2  \\\n0         0        0                              0.00                  0.00   \n1         0        0                              0.00                  0.00   \n2         0        0                              0.00                  0.00   \n3         0        0                              0.00                  0.00   \n4         0        0                              0.00                  0.00   \n...     ...      ...          ...                  ...                   ...   \n1187      0        0                              0.00                  0.00   \n1188      0        0                              0.00                  0.00   \n1189      0        0                              0.00                  0.00   \n1190      0        0                              0.00                  0.00   \n1191      0        0                              0.00                  0.00   \n\n      call_or_put conversion_start_date  \n0                                  None  \n1                                  None  \n2                                  None  \n3                                  None  \n4                                  None  \n...           ...                   ...  \n1187                               None  \n1188                               None  \n1189                               None  \n1190                               None  \n1191                               None  \n\n[1192 rows x 34 columns]",
      "text/html": "<div>\n<style scoped>\n    .dataframe tbody tr th:only-of-type {\n        vertical-align: middle;\n    }\n\n    .dataframe tbody tr th {\n        vertical-align: top;\n    }\n\n    .dataframe thead th {\n        text-align: right;\n    }\n</style>\n<table border=\"1\" class=\"dataframe\">\n  <thead>\n    <tr style=\"text-align: right;\">\n      <th></th>\n      <th>trade_date</th>\n      <th>position</th>\n      <th>settle_price</th>\n      <th>pre_settle</th>\n      <th>pre_close</th>\n      <th>upper_limit</th>\n      <th>lower_limit</th>\n      <th>margin_ratio</th>\n      <th>multiplier</th>\n      <th>is_adjusted</th>\n      <th>...</th>\n      <th>listed_date</th>\n      <th>delisted_date</th>\n      <th>underlying_symbol</th>\n      <th>board</th>\n      <th>trade_n</th>\n      <th>option_type</th>\n      <th>option_margin_ratio1</th>\n      <th>option_margin_ratio2</th>\n      <th>call_or_put</th>\n      <th>conversion_start_date</th>\n    </tr>\n  </thead>\n  <tbody>\n    <tr>\n      <th>0</th>\n      <td>2023-05-12 00:00:00+08:00</td>\n      <td>61796</td>\n      <td>6092.60</td>\n      <td>6152.00</td>\n      <td>6147.40</td>\n      <td>6767.20</td>\n      <td>5536.80</td>\n      <td>0.12</td>\n      <td>200</td>\n      <td>False</td>\n      <td>...</td>\n      <td>1950-01-01 00:00:00+08:00</td>\n      <td>2038-01-01 00:00:00+08:00</td>\n      <td>SHSE.000905</td>\n      <td>0</td>\n      <td>0</td>\n      <td></td>\n      <td>0.00</td>\n      <td>0.00</td>\n      <td></td>\n      <td>None</td>\n    </tr>\n    <tr>\n      <th>1</th>\n      <td>2023-05-12 00:00:00+08:00</td>\n      <td>61796</td>\n      <td>6092.60</td>\n      <td>6152.00</td>\n      <td>6147.40</td>\n      <td>6767.20</td>\n      <td>5536.80</td>\n      <td>0.12</td>\n      <td>200</td>\n      <td>False</td>\n      <td>...</td>\n      <td>1950-01-01 00:00:00+08:00</td>\n      <td>2038-01-01 00:00:00+08:00</td>\n      <td>SHSE.000905</td>\n      <td>0</td>\n      <td>0</td>\n      <td></td>\n      <td>0.00</td>\n      <td>0.00</td>\n      <td></td>\n      <td>None</td>\n    </tr>\n    <tr>\n      <th>2</th>\n      <td>2023-05-12 00:00:00+08:00</td>\n      <td>114111</td>\n      <td>6073.40</td>\n      <td>6131.80</td>\n      <td>6125.80</td>\n      <td>6744.80</td>\n      <td>5518.80</td>\n      <td>0.12</td>\n      <td>200</td>\n      <td>False</td>\n      <td>...</td>\n      <td>1950-01-01 00:00:00+08:00</td>\n      <td>2038-01-01 00:00:00+08:00</td>\n      <td>SHSE.000905</td>\n      <td>0</td>\n      <td>0</td>\n      <td></td>\n      <td>0.00</td>\n      <td>0.00</td>\n      <td></td>\n      <td>None</td>\n    </tr>\n    <tr>\n      <th>3</th>\n      <td>2023-05-12 00:00:00+08:00</td>\n      <td>94677</td>\n      <td>6015.00</td>\n      <td>6070.00</td>\n      <td>6065.20</td>\n      <td>6677.00</td>\n      <td>5463.00</td>\n      <td>0.12</td>\n      <td>200</td>\n      <td>False</td>\n      <td>...</td>\n      <td>1950-01-01 00:00:00+08:00</td>\n      <td>2038-01-01 00:00:00+08:00</td>\n      <td>SHSE.000905</td>\n      <td>0</td>\n      <td>0</td>\n      <td></td>\n      <td>0.00</td>\n      <td>0.00</td>\n      <td></td>\n      <td>None</td>\n    </tr>\n    <tr>\n      <th>4</th>\n      <td>2023-05-12 00:00:00+08:00</td>\n      <td>18861</td>\n      <td>5965.60</td>\n      <td>6020.20</td>\n      <td>6018.40</td>\n      <td>6622.20</td>\n      <td>5418.20</td>\n      <td>0.12</td>\n      <td>200</td>\n      <td>False</td>\n      <td>...</td>\n      <td>1950-01-01 00:00:00+08:00</td>\n      <td>2038-01-01 00:00:00+08:00</td>\n      <td>SHSE.000905</td>\n      <td>0</td>\n      <td>0</td>\n      <td></td>\n      <td>0.00</td>\n      <td>0.00</td>\n      <td></td>\n      <td>None</td>\n    </tr>\n    <tr>\n      <th>...</th>\n      <td>...</td>\n      <td>...</td>\n      <td>...</td>\n      <td>...</td>\n      <td>...</td>\n      <td>...</td>\n      <td>...</td>\n      <td>...</td>\n      <td>...</td>\n      <td>...</td>\n      <td>...</td>\n      <td>...</td>\n      <td>...</td>\n      <td>...</td>\n      <td>...</td>\n      <td>...</td>\n      <td>...</td>\n      <td>...</td>\n      <td>...</td>\n      <td>...</td>\n      <td>...</td>\n    </tr>\n    <tr>\n      <th>1187</th>\n      <td>2023-05-12 00:00:00+08:00</td>\n      <td>417</td>\n      <td>20105.00</td>\n      <td>20455.00</td>\n      <td>20350.00</td>\n      <td>21885.00</td>\n      <td>19020.00</td>\n      <td>0.09</td>\n      <td>5</td>\n      <td>False</td>\n      <td>...</td>\n      <td>2022-12-16 00:00:00+08:00</td>\n      <td>2023-12-15 00:00:00+08:00</td>\n      <td>SHFE.ZN</td>\n      <td>0</td>\n      <td>0</td>\n      <td></td>\n      <td>0.00</td>\n      <td>0.00</td>\n      <td></td>\n      <td>None</td>\n    </tr>\n    <tr>\n      <th>1188</th>\n      <td>2023-05-12 00:00:00+08:00</td>\n      <td>319</td>\n      <td>20080.00</td>\n      <td>20410.00</td>\n      <td>20455.00</td>\n      <td>21835.00</td>\n      <td>18980.00</td>\n      <td>0.09</td>\n      <td>5</td>\n      <td>False</td>\n      <td>...</td>\n      <td>2023-01-17 00:00:00+08:00</td>\n      <td>2024-01-15 00:00:00+08:00</td>\n      <td>SHFE.ZN</td>\n      <td>0</td>\n      <td>0</td>\n      <td></td>\n      <td>0.00</td>\n      <td>0.00</td>\n      <td></td>\n      <td>None</td>\n    </tr>\n    <tr>\n      <th>1189</th>\n      <td>2023-05-12 00:00:00+08:00</td>\n      <td>83</td>\n      <td>19970.00</td>\n      <td>20310.00</td>\n      <td>20260.00</td>\n      <td>21730.00</td>\n      <td>18885.00</td>\n      <td>0.09</td>\n      <td>5</td>\n      <td>False</td>\n      <td>...</td>\n      <td>2023-02-16 00:00:00+08:00</td>\n      <td>2024-02-15 00:00:00+08:00</td>\n      <td>SHFE.ZN</td>\n      <td>0</td>\n      <td>0</td>\n      <td></td>\n      <td>0.00</td>\n      <td>0.00</td>\n      <td></td>\n      <td>None</td>\n    </tr>\n    <tr>\n      <th>1190</th>\n      <td>2023-05-12 00:00:00+08:00</td>\n      <td>301</td>\n      <td>19975.00</td>\n      <td>20175.00</td>\n      <td>20175.00</td>\n      <td>21585.00</td>\n      <td>18760.00</td>\n      <td>0.09</td>\n      <td>5</td>\n      <td>False</td>\n      <td>...</td>\n      <td>2023-03-16 00:00:00+08:00</td>\n      <td>2024-03-15 00:00:00+08:00</td>\n      <td>SHFE.ZN</td>\n      <td>0</td>\n      <td>0</td>\n      <td></td>\n      <td>0.00</td>\n      <td>0.00</td>\n      <td></td>\n      <td>None</td>\n    </tr>\n    <tr>\n      <th>1191</th>\n      <td>2023-05-12 00:00:00+08:00</td>\n      <td>82</td>\n      <td>19890.00</td>\n      <td>20220.00</td>\n      <td>20150.00</td>\n      <td>21635.00</td>\n      <td>18800.00</td>\n      <td>0.09</td>\n      <td>5</td>\n      <td>False</td>\n      <td>...</td>\n      <td>2023-04-18 00:00:00+08:00</td>\n      <td>2024-04-15 00:00:00+08:00</td>\n      <td>SHFE.ZN</td>\n      <td>0</td>\n      <td>0</td>\n      <td></td>\n      <td>0.00</td>\n      <td>0.00</td>\n      <td></td>\n      <td>None</td>\n    </tr>\n  </tbody>\n</table>\n<p>1192 rows × 34 columns</p>\n</div>"
     },
     "execution_count": 78,
     "metadata": {},
     "output_type": "execute_result"
    }
   ],
   "source": [
    "get_symbols(1040, df=True, trade_date='2023-05-12')"
   ],
   "metadata": {
    "collapsed": false,
    "ExecuteTime": {
     "start_time": "2023-05-14T17:25:40.152694Z",
     "end_time": "2023-05-14T17:25:40.743281Z"
    }
   }
  },
  {
   "cell_type": "code",
   "execution_count": 53,
   "outputs": [
    {
     "ename": "GmError",
     "evalue": "{\"status\": 1017, \"message\": \"基本面数据服务调用错误\", \"function\": \"get_history_instruments\"}",
     "output_type": "error",
     "traceback": [
      "\u001B[1;31m---------------------------------------------------------------------------\u001B[0m",
      "\u001B[1;31mGmError\u001B[0m                                   Traceback (most recent call last)",
      "Cell \u001B[1;32mIn[53], line 1\u001B[0m\n\u001B[1;32m----> 1\u001B[0m \u001B[43mget_history_instruments\u001B[49m\u001B[43m(\u001B[49m\u001B[38;5;124;43m'\u001B[39;49m\u001B[38;5;124;43mSHFE.NI\u001B[39;49m\u001B[38;5;124;43m'\u001B[39;49m\u001B[43m)\u001B[49m\n",
      "File \u001B[1;32md:\\anaconda3\\lib\\site-packages\\gm\\api\\query.py:250\u001B[0m, in \u001B[0;36mget_history_instruments\u001B[1;34m(symbols, fields, start_date, end_date, df)\u001B[0m\n\u001B[0;32m    243\u001B[0m req \u001B[38;5;241m=\u001B[39m GetHistoryInstrumentsReq(\n\u001B[0;32m    244\u001B[0m     symbols\u001B[38;5;241m=\u001B[39msymbols,\n\u001B[0;32m    245\u001B[0m     \u001B[38;5;66;03m# fields=fields,\u001B[39;00m\n\u001B[0;32m    246\u001B[0m     start_date\u001B[38;5;241m=\u001B[39mstart_date,\n\u001B[0;32m    247\u001B[0m     end_date\u001B[38;5;241m=\u001B[39mend_date,\n\u001B[0;32m    248\u001B[0m )\n\u001B[0;32m    249\u001B[0m status, result \u001B[38;5;241m=\u001B[39m py_gmi_get_history_instruments(req\u001B[38;5;241m.\u001B[39mSerializeToString())\n\u001B[1;32m--> 250\u001B[0m \u001B[43mcheck_gm_status\u001B[49m\u001B[43m(\u001B[49m\u001B[43mstatus\u001B[49m\u001B[43m)\u001B[49m\n\u001B[0;32m    251\u001B[0m rsp \u001B[38;5;241m=\u001B[39m Instruments()\n\u001B[0;32m    252\u001B[0m rsp\u001B[38;5;241m.\u001B[39mParseFromString(result)\n",
      "File \u001B[1;32md:\\anaconda3\\lib\\site-packages\\gm\\api\\_errors.py:30\u001B[0m, in \u001B[0;36mcheck_gm_status\u001B[1;34m(status)\u001B[0m\n\u001B[0;32m     28\u001B[0m     message \u001B[38;5;241m+\u001B[39m\u001B[38;5;241m=\u001B[39m \u001B[38;5;124m\"\u001B[39m\u001B[38;5;124m; \u001B[39m\u001B[38;5;124m\"\u001B[39m \u001B[38;5;241m+\u001B[39m ext_message\n\u001B[0;32m     29\u001B[0m function \u001B[38;5;241m=\u001B[39m sys\u001B[38;5;241m.\u001B[39m_getframe()\u001B[38;5;241m.\u001B[39mf_back\u001B[38;5;241m.\u001B[39mf_code\u001B[38;5;241m.\u001B[39mco_name\n\u001B[1;32m---> 30\u001B[0m \u001B[38;5;28;01mraise\u001B[39;00m GmError(status, message, function)\n",
      "\u001B[1;31mGmError\u001B[0m: {\"status\": 1017, \"message\": \"基本面数据服务调用错误\", \"function\": \"get_history_instruments\"}"
     ]
    }
   ],
   "source": [
    "get_history_instruments('SHFE.NI')"
   ],
   "metadata": {
    "collapsed": false
   }
  },
  {
   "cell_type": "code",
   "execution_count": 58,
   "outputs": [
    {
     "data": {
      "text/plain": "[]"
     },
     "execution_count": 58,
     "metadata": {},
     "output_type": "execute_result"
    }
   ],
   "source": [
    "get_history_symbol('CFFEX.IC01')"
   ],
   "metadata": {
    "collapsed": false,
    "ExecuteTime": {
     "start_time": "2023-05-14T16:52:52.627097Z",
     "end_time": "2023-05-14T16:52:52.634121Z"
    }
   }
  },
  {
   "cell_type": "code",
   "execution_count": 67,
   "outputs": [
    {
     "data": {
      "text/plain": "               symbol      open      high       low     close  volume  \\\n0           DCE.p2102   7406.00   7444.00   7406.00   7418.00    1856   \n1         SHFE.pb2103  14610.00  14845.00  14610.00  14795.00     912   \n2          CZCE.PF109   6478.00   6478.00   6470.00   6470.00       5   \n3           DCE.i2109    922.00    933.00    915.50    930.00    1318   \n4         SHFE.sn2104 151410.00 152010.00 151410.00 151870.00      43   \n...               ...       ...       ...       ...       ...     ...   \n10358823  SHFE.al2307  17955.00  17960.00  17955.00  17955.00     166   \n10358824  SHFE.au2310    453.48    453.50    453.30    453.30      21   \n10358825  SHFE.sn2307 200100.00 200160.00 200060.00 200060.00      55   \n10358826  SHFE.cu2307  64800.00  64810.00  64790.00  64790.00      47   \n10358827  SHFE.ni2307 167050.00 167100.00 166970.00 166970.00      91   \n\n               amount  position                       bob  \\\n0        137473460.00     43698 2021-01-04 09:00:00+08:00   \n1         67328550.00     18347 2021-01-04 09:00:00+08:00   \n2           161850.00      3201 2021-01-04 09:00:00+08:00   \n3        121735300.00     92924 2021-01-04 09:00:00+08:00   \n4          6530070.00     12090 2021-01-04 09:00:00+08:00   \n...               ...       ...                       ...   \n10358823  14904975.00    168490 2023-05-12 23:11:00+08:00   \n10358824   9521020.00     96591 2023-05-12 23:11:00+08:00   \n10358825  11005670.00     28147 2023-05-12 23:11:00+08:00   \n10358826  15227050.00    149707 2023-05-12 23:11:00+08:00   \n10358827  15198440.00     62169 2023-05-12 23:12:00+08:00   \n\n                               eob  \n0        2021-01-04 09:01:00+08:00  \n1        2021-01-04 09:01:00+08:00  \n2        2021-01-04 09:01:00+08:00  \n3        2021-01-04 09:01:00+08:00  \n4        2021-01-04 09:01:00+08:00  \n...                            ...  \n10358823 2023-05-12 23:12:00+08:00  \n10358824 2023-05-12 23:12:00+08:00  \n10358825 2023-05-12 23:12:00+08:00  \n10358826 2023-05-12 23:12:00+08:00  \n10358827 2023-05-12 23:13:00+08:00  \n\n[10358828 rows x 10 columns]",
      "text/html": "<div>\n<style scoped>\n    .dataframe tbody tr th:only-of-type {\n        vertical-align: middle;\n    }\n\n    .dataframe tbody tr th {\n        vertical-align: top;\n    }\n\n    .dataframe thead th {\n        text-align: right;\n    }\n</style>\n<table border=\"1\" class=\"dataframe\">\n  <thead>\n    <tr style=\"text-align: right;\">\n      <th></th>\n      <th>symbol</th>\n      <th>open</th>\n      <th>high</th>\n      <th>low</th>\n      <th>close</th>\n      <th>volume</th>\n      <th>amount</th>\n      <th>position</th>\n      <th>bob</th>\n      <th>eob</th>\n    </tr>\n  </thead>\n  <tbody>\n    <tr>\n      <th>0</th>\n      <td>DCE.p2102</td>\n      <td>7406.00</td>\n      <td>7444.00</td>\n      <td>7406.00</td>\n      <td>7418.00</td>\n      <td>1856</td>\n      <td>137473460.00</td>\n      <td>43698</td>\n      <td>2021-01-04 09:00:00+08:00</td>\n      <td>2021-01-04 09:01:00+08:00</td>\n    </tr>\n    <tr>\n      <th>1</th>\n      <td>SHFE.pb2103</td>\n      <td>14610.00</td>\n      <td>14845.00</td>\n      <td>14610.00</td>\n      <td>14795.00</td>\n      <td>912</td>\n      <td>67328550.00</td>\n      <td>18347</td>\n      <td>2021-01-04 09:00:00+08:00</td>\n      <td>2021-01-04 09:01:00+08:00</td>\n    </tr>\n    <tr>\n      <th>2</th>\n      <td>CZCE.PF109</td>\n      <td>6478.00</td>\n      <td>6478.00</td>\n      <td>6470.00</td>\n      <td>6470.00</td>\n      <td>5</td>\n      <td>161850.00</td>\n      <td>3201</td>\n      <td>2021-01-04 09:00:00+08:00</td>\n      <td>2021-01-04 09:01:00+08:00</td>\n    </tr>\n    <tr>\n      <th>3</th>\n      <td>DCE.i2109</td>\n      <td>922.00</td>\n      <td>933.00</td>\n      <td>915.50</td>\n      <td>930.00</td>\n      <td>1318</td>\n      <td>121735300.00</td>\n      <td>92924</td>\n      <td>2021-01-04 09:00:00+08:00</td>\n      <td>2021-01-04 09:01:00+08:00</td>\n    </tr>\n    <tr>\n      <th>4</th>\n      <td>SHFE.sn2104</td>\n      <td>151410.00</td>\n      <td>152010.00</td>\n      <td>151410.00</td>\n      <td>151870.00</td>\n      <td>43</td>\n      <td>6530070.00</td>\n      <td>12090</td>\n      <td>2021-01-04 09:00:00+08:00</td>\n      <td>2021-01-04 09:01:00+08:00</td>\n    </tr>\n    <tr>\n      <th>...</th>\n      <td>...</td>\n      <td>...</td>\n      <td>...</td>\n      <td>...</td>\n      <td>...</td>\n      <td>...</td>\n      <td>...</td>\n      <td>...</td>\n      <td>...</td>\n      <td>...</td>\n    </tr>\n    <tr>\n      <th>10358823</th>\n      <td>SHFE.al2307</td>\n      <td>17955.00</td>\n      <td>17960.00</td>\n      <td>17955.00</td>\n      <td>17955.00</td>\n      <td>166</td>\n      <td>14904975.00</td>\n      <td>168490</td>\n      <td>2023-05-12 23:11:00+08:00</td>\n      <td>2023-05-12 23:12:00+08:00</td>\n    </tr>\n    <tr>\n      <th>10358824</th>\n      <td>SHFE.au2310</td>\n      <td>453.48</td>\n      <td>453.50</td>\n      <td>453.30</td>\n      <td>453.30</td>\n      <td>21</td>\n      <td>9521020.00</td>\n      <td>96591</td>\n      <td>2023-05-12 23:11:00+08:00</td>\n      <td>2023-05-12 23:12:00+08:00</td>\n    </tr>\n    <tr>\n      <th>10358825</th>\n      <td>SHFE.sn2307</td>\n      <td>200100.00</td>\n      <td>200160.00</td>\n      <td>200060.00</td>\n      <td>200060.00</td>\n      <td>55</td>\n      <td>11005670.00</td>\n      <td>28147</td>\n      <td>2023-05-12 23:11:00+08:00</td>\n      <td>2023-05-12 23:12:00+08:00</td>\n    </tr>\n    <tr>\n      <th>10358826</th>\n      <td>SHFE.cu2307</td>\n      <td>64800.00</td>\n      <td>64810.00</td>\n      <td>64790.00</td>\n      <td>64790.00</td>\n      <td>47</td>\n      <td>15227050.00</td>\n      <td>149707</td>\n      <td>2023-05-12 23:11:00+08:00</td>\n      <td>2023-05-12 23:12:00+08:00</td>\n    </tr>\n    <tr>\n      <th>10358827</th>\n      <td>SHFE.ni2307</td>\n      <td>167050.00</td>\n      <td>167100.00</td>\n      <td>166970.00</td>\n      <td>166970.00</td>\n      <td>91</td>\n      <td>15198440.00</td>\n      <td>62169</td>\n      <td>2023-05-12 23:12:00+08:00</td>\n      <td>2023-05-12 23:13:00+08:00</td>\n    </tr>\n  </tbody>\n</table>\n<p>10358828 rows × 10 columns</p>\n</div>"
     },
     "execution_count": 67,
     "metadata": {},
     "output_type": "execute_result"
    }
   ],
   "source": [
    "get_data('Price_Volume_Data/submain',begin='20210101')\n"
   ],
   "metadata": {
    "collapsed": false,
    "ExecuteTime": {
     "start_time": "2023-05-14T17:08:15.919216Z",
     "end_time": "2023-05-14T17:09:14.150477Z"
    }
   }
  }
 ],
 "metadata": {
  "kernelspec": {
   "display_name": "Python 3",
   "language": "python",
   "name": "python3"
  },
  "language_info": {
   "codemirror_mode": {
    "name": "ipython",
    "version": 2
   },
   "file_extension": ".py",
   "mimetype": "text/x-python",
   "name": "python",
   "nbconvert_exporter": "python",
   "pygments_lexer": "ipython2",
   "version": "2.7.6"
  }
 },
 "nbformat": 4,
 "nbformat_minor": 0
}
